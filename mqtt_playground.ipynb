{
 "cells": [
  {
   "cell_type": "code",
   "execution_count": 4,
   "metadata": {},
   "outputs": [],
   "source": [
    "import pika\n",
    "import pika.credentials\n",
    "\n",
    "# Connection parameters\n",
    "rabbitmq_host = \"mqtt.apps.nalamki.de\"\n",
    "rabbitmq_port = 5672\n",
    "rabbitmq_queue = \"apfel-hhi\"\n",
    "rabbitmq_routing_key = \"aiservice\"\n",
    "rabbitmq_username = 'rabbit'\n",
    "rabbitmq_password = 'xa8Yoohii'\n",
    "\n",
    "def callback(ch, method, properties, body):\n",
    "    print(f\"Received message: {body}\")"
   ]
  },
  {
   "cell_type": "code",
   "execution_count": 5,
   "metadata": {},
   "outputs": [
    {
     "name": "stdout",
     "output_type": "stream",
     "text": [
      "Waiting for messages in apfel-hhi. To exit press CTRL+C\n",
      "Received message: b'{\"pattern\": \"finish\", \"data\": {\"bucket\": {\"endpoint\": \"minio-api-nalamki-bc-dev.apps.k8s.nt.ag\", \"port\": \"443\", \"name\": \"nalamki-digital-farm-dev\", \"accessId\": \"BHRZoWj0R9o8Ye0yD68d\", \"accessToken\": \"TFTdF61oT5hCb7QIbgMY80MXnqvL6eupG0zRzzNk\"}, \"inputData\": [\"b612ee7f-42cb-4f63-9274-6efa562a2b5b/5047c81a-0773-4246-9434-9d22f5e53ddc/c8c38169-4669-4ed2-a643-feb261faed80/input\"], \"outputData\": \"actions/79a5ddad-1f5c-4754-afeb-dd26739d658a/output\"}}'\n"
     ]
    },
    {
     "ename": "KeyboardInterrupt",
     "evalue": "",
     "output_type": "error",
     "traceback": [
      "\u001b[0;31m---------------------------------------------------------------------------\u001b[0m",
      "\u001b[0;31mKeyboardInterrupt\u001b[0m                         Traceback (most recent call last)",
      "Cell \u001b[0;32mIn[5], line 20\u001b[0m\n\u001b[1;32m     13\u001b[0m channel\u001b[38;5;241m.\u001b[39mbasic_consume(\n\u001b[1;32m     14\u001b[0m     queue\u001b[38;5;241m=\u001b[39mrabbitmq_queue,\n\u001b[1;32m     15\u001b[0m     on_message_callback\u001b[38;5;241m=\u001b[39mcallback,\n\u001b[1;32m     16\u001b[0m     auto_ack\u001b[38;5;241m=\u001b[39m\u001b[38;5;28;01mTrue\u001b[39;00m\n\u001b[1;32m     17\u001b[0m )\n\u001b[1;32m     19\u001b[0m \u001b[38;5;28mprint\u001b[39m(\u001b[38;5;124mf\u001b[39m\u001b[38;5;124m\"\u001b[39m\u001b[38;5;124mWaiting for messages in \u001b[39m\u001b[38;5;132;01m{\u001b[39;00mrabbitmq_queue\u001b[38;5;132;01m}\u001b[39;00m\u001b[38;5;124m. To exit press CTRL+C\u001b[39m\u001b[38;5;124m\"\u001b[39m)\n\u001b[0;32m---> 20\u001b[0m \u001b[43mchannel\u001b[49m\u001b[38;5;241;43m.\u001b[39;49m\u001b[43mstart_consuming\u001b[49m\u001b[43m(\u001b[49m\u001b[43m)\u001b[49m\n",
      "File \u001b[0;32m~/miniconda3/envs/gis_env/lib/python3.10/site-packages/pika/adapters/blocking_connection.py:1883\u001b[0m, in \u001b[0;36mBlockingChannel.start_consuming\u001b[0;34m(self)\u001b[0m\n\u001b[1;32m   1880\u001b[0m \u001b[38;5;66;03m# Process events as long as consumers exist on this channel\u001b[39;00m\n\u001b[1;32m   1881\u001b[0m \u001b[38;5;28;01mwhile\u001b[39;00m \u001b[38;5;28mself\u001b[39m\u001b[38;5;241m.\u001b[39m_consumer_infos:\n\u001b[1;32m   1882\u001b[0m     \u001b[38;5;66;03m# This will raise ChannelClosed if channel is closed by broker\u001b[39;00m\n\u001b[0;32m-> 1883\u001b[0m     \u001b[38;5;28;43mself\u001b[39;49m\u001b[38;5;241;43m.\u001b[39;49m\u001b[43m_process_data_events\u001b[49m\u001b[43m(\u001b[49m\u001b[43mtime_limit\u001b[49m\u001b[38;5;241;43m=\u001b[39;49m\u001b[38;5;28;43;01mNone\u001b[39;49;00m\u001b[43m)\u001b[49m\n",
      "File \u001b[0;32m~/miniconda3/envs/gis_env/lib/python3.10/site-packages/pika/adapters/blocking_connection.py:2044\u001b[0m, in \u001b[0;36mBlockingChannel._process_data_events\u001b[0;34m(self, time_limit)\u001b[0m\n\u001b[1;32m   2025\u001b[0m \u001b[38;5;28;01mdef\u001b[39;00m \u001b[38;5;21m_process_data_events\u001b[39m(\u001b[38;5;28mself\u001b[39m, time_limit):\n\u001b[1;32m   2026\u001b[0m \u001b[38;5;250m    \u001b[39m\u001b[38;5;124;03m\"\"\"Wrapper for `BlockingConnection.process_data_events()` with common\u001b[39;00m\n\u001b[1;32m   2027\u001b[0m \u001b[38;5;124;03m    channel-specific logic that raises ChannelClosed if broker closed this\u001b[39;00m\n\u001b[1;32m   2028\u001b[0m \u001b[38;5;124;03m    channel.\u001b[39;00m\n\u001b[0;32m   (...)\u001b[0m\n\u001b[1;32m   2042\u001b[0m \n\u001b[1;32m   2043\u001b[0m \u001b[38;5;124;03m    \"\"\"\u001b[39;00m\n\u001b[0;32m-> 2044\u001b[0m     \u001b[38;5;28;43mself\u001b[39;49m\u001b[38;5;241;43m.\u001b[39;49m\u001b[43mconnection\u001b[49m\u001b[38;5;241;43m.\u001b[39;49m\u001b[43mprocess_data_events\u001b[49m\u001b[43m(\u001b[49m\u001b[43mtime_limit\u001b[49m\u001b[38;5;241;43m=\u001b[39;49m\u001b[43mtime_limit\u001b[49m\u001b[43m)\u001b[49m\n\u001b[1;32m   2045\u001b[0m     \u001b[38;5;28;01mif\u001b[39;00m \u001b[38;5;28mself\u001b[39m\u001b[38;5;241m.\u001b[39mis_closed \u001b[38;5;129;01mand\u001b[39;00m \u001b[38;5;28misinstance\u001b[39m(\u001b[38;5;28mself\u001b[39m\u001b[38;5;241m.\u001b[39m_closing_reason,\n\u001b[1;32m   2046\u001b[0m                                      exceptions\u001b[38;5;241m.\u001b[39mChannelClosedByBroker):\n\u001b[1;32m   2047\u001b[0m         LOGGER\u001b[38;5;241m.\u001b[39mdebug(\u001b[38;5;124m'\u001b[39m\u001b[38;5;124mChannel close by broker detected, raising \u001b[39m\u001b[38;5;132;01m%r\u001b[39;00m\u001b[38;5;124m; \u001b[39m\u001b[38;5;132;01m%r\u001b[39;00m\u001b[38;5;124m'\u001b[39m,\n\u001b[1;32m   2048\u001b[0m                      \u001b[38;5;28mself\u001b[39m\u001b[38;5;241m.\u001b[39m_closing_reason, \u001b[38;5;28mself\u001b[39m)\n",
      "File \u001b[0;32m~/miniconda3/envs/gis_env/lib/python3.10/site-packages/pika/adapters/blocking_connection.py:842\u001b[0m, in \u001b[0;36mBlockingConnection.process_data_events\u001b[0;34m(self, time_limit)\u001b[0m\n\u001b[1;32m    838\u001b[0m common_terminator \u001b[38;5;241m=\u001b[39m \u001b[38;5;28;01mlambda\u001b[39;00m: \u001b[38;5;28mbool\u001b[39m(dispatch_acquired \u001b[38;5;129;01mand\u001b[39;00m\n\u001b[1;32m    839\u001b[0m                                  (\u001b[38;5;28mself\u001b[39m\u001b[38;5;241m.\u001b[39m_channels_pending_dispatch \u001b[38;5;129;01mor\u001b[39;00m\n\u001b[1;32m    840\u001b[0m                                   \u001b[38;5;28mself\u001b[39m\u001b[38;5;241m.\u001b[39m_ready_events))\n\u001b[1;32m    841\u001b[0m \u001b[38;5;28;01mif\u001b[39;00m time_limit \u001b[38;5;129;01mis\u001b[39;00m \u001b[38;5;28;01mNone\u001b[39;00m:\n\u001b[0;32m--> 842\u001b[0m     \u001b[38;5;28;43mself\u001b[39;49m\u001b[38;5;241;43m.\u001b[39;49m\u001b[43m_flush_output\u001b[49m\u001b[43m(\u001b[49m\u001b[43mcommon_terminator\u001b[49m\u001b[43m)\u001b[49m\n\u001b[1;32m    843\u001b[0m \u001b[38;5;28;01melse\u001b[39;00m:\n\u001b[1;32m    844\u001b[0m     \u001b[38;5;28;01mwith\u001b[39;00m _IoloopTimerContext(time_limit, \u001b[38;5;28mself\u001b[39m\u001b[38;5;241m.\u001b[39m_impl) \u001b[38;5;28;01mas\u001b[39;00m timer:\n",
      "File \u001b[0;32m~/miniconda3/envs/gis_env/lib/python3.10/site-packages/pika/adapters/blocking_connection.py:514\u001b[0m, in \u001b[0;36mBlockingConnection._flush_output\u001b[0;34m(self, *waiters)\u001b[0m\n\u001b[1;32m    512\u001b[0m \u001b[38;5;66;03m# Process I/O until our completion condition is satisfied\u001b[39;00m\n\u001b[1;32m    513\u001b[0m \u001b[38;5;28;01mwhile\u001b[39;00m \u001b[38;5;129;01mnot\u001b[39;00m is_done():\n\u001b[0;32m--> 514\u001b[0m     \u001b[38;5;28;43mself\u001b[39;49m\u001b[38;5;241;43m.\u001b[39;49m\u001b[43m_impl\u001b[49m\u001b[38;5;241;43m.\u001b[39;49m\u001b[43mioloop\u001b[49m\u001b[38;5;241;43m.\u001b[39;49m\u001b[43mpoll\u001b[49m\u001b[43m(\u001b[49m\u001b[43m)\u001b[49m\n\u001b[1;32m    515\u001b[0m     \u001b[38;5;28mself\u001b[39m\u001b[38;5;241m.\u001b[39m_impl\u001b[38;5;241m.\u001b[39mioloop\u001b[38;5;241m.\u001b[39mprocess_timeouts()\n\u001b[1;32m    517\u001b[0m \u001b[38;5;28;01mif\u001b[39;00m \u001b[38;5;28mself\u001b[39m\u001b[38;5;241m.\u001b[39m_closed_result\u001b[38;5;241m.\u001b[39mready:\n",
      "File \u001b[0;32m~/miniconda3/envs/gis_env/lib/python3.10/site-packages/pika/adapters/select_connection.py:579\u001b[0m, in \u001b[0;36mIOLoop.poll\u001b[0;34m(self)\u001b[0m\n\u001b[1;32m    572\u001b[0m \u001b[38;5;28;01mdef\u001b[39;00m \u001b[38;5;21mpoll\u001b[39m(\u001b[38;5;28mself\u001b[39m):\n\u001b[1;32m    573\u001b[0m \u001b[38;5;250m    \u001b[39m\u001b[38;5;124;03m\"\"\"[Extension] Wait for events of interest on registered file\u001b[39;00m\n\u001b[1;32m    574\u001b[0m \u001b[38;5;124;03m    descriptors until an event of interest occurs or next timer deadline or\u001b[39;00m\n\u001b[1;32m    575\u001b[0m \u001b[38;5;124;03m    `_PollerBase._MAX_POLL_TIMEOUT`, whichever is sooner, and dispatch the\u001b[39;00m\n\u001b[1;32m    576\u001b[0m \u001b[38;5;124;03m    corresponding event handlers.\u001b[39;00m\n\u001b[1;32m    577\u001b[0m \n\u001b[1;32m    578\u001b[0m \u001b[38;5;124;03m    \"\"\"\u001b[39;00m\n\u001b[0;32m--> 579\u001b[0m     \u001b[38;5;28;43mself\u001b[39;49m\u001b[38;5;241;43m.\u001b[39;49m\u001b[43m_poller\u001b[49m\u001b[38;5;241;43m.\u001b[39;49m\u001b[43mpoll\u001b[49m\u001b[43m(\u001b[49m\u001b[43m)\u001b[49m\n",
      "File \u001b[0;32m~/miniconda3/envs/gis_env/lib/python3.10/site-packages/pika/adapters/select_connection.py:1064\u001b[0m, in \u001b[0;36mKQueuePoller.poll\u001b[0;34m(self)\u001b[0m\n\u001b[1;32m   1062\u001b[0m \u001b[38;5;28;01mwhile\u001b[39;00m \u001b[38;5;28;01mTrue\u001b[39;00m:\n\u001b[1;32m   1063\u001b[0m     \u001b[38;5;28;01mtry\u001b[39;00m:\n\u001b[0;32m-> 1064\u001b[0m         kevents \u001b[38;5;241m=\u001b[39m \u001b[38;5;28;43mself\u001b[39;49m\u001b[38;5;241;43m.\u001b[39;49m\u001b[43m_kqueue\u001b[49m\u001b[38;5;241;43m.\u001b[39;49m\u001b[43mcontrol\u001b[49m\u001b[43m(\u001b[49m\u001b[38;5;28;43;01mNone\u001b[39;49;00m\u001b[43m,\u001b[49m\u001b[43m \u001b[49m\u001b[38;5;241;43m1000\u001b[39;49m\u001b[43m,\u001b[49m\u001b[43m \u001b[49m\u001b[38;5;28;43mself\u001b[39;49m\u001b[38;5;241;43m.\u001b[39;49m\u001b[43m_get_max_wait\u001b[49m\u001b[43m(\u001b[49m\u001b[43m)\u001b[49m\u001b[43m)\u001b[49m\n\u001b[1;32m   1065\u001b[0m         \u001b[38;5;28;01mbreak\u001b[39;00m\n\u001b[1;32m   1066\u001b[0m     \u001b[38;5;28;01mexcept\u001b[39;00m _SELECT_ERRORS \u001b[38;5;28;01mas\u001b[39;00m error:\n",
      "\u001b[0;31mKeyboardInterrupt\u001b[0m: "
     ]
    }
   ],
   "source": [
    "credentials = pika.PlainCredentials(rabbitmq_username, rabbitmq_password)\n",
    "\n",
    "connection = pika.BlockingConnection(pika.ConnectionParameters(host=rabbitmq_host, \n",
    "                                                               port=rabbitmq_port, \n",
    "                                                               credentials=credentials\n",
    "                                                               ))\n",
    "channel = connection.channel()\n",
    "\n",
    "# Declare the queue (if it doesn't already exist)\n",
    "channel.queue_declare(queue=rabbitmq_queue, durable=True)\n",
    "\n",
    "# Set up subscription on the queue\n",
    "channel.basic_consume(\n",
    "    queue=rabbitmq_queue,\n",
    "    on_message_callback=callback,\n",
    "    auto_ack=True\n",
    ")\n",
    "\n",
    "print(f\"Waiting for messages in {rabbitmq_queue}. To exit press CTRL+C\")\n",
    "channel.start_consuming()"
   ]
  }
 ],
 "metadata": {
  "kernelspec": {
   "display_name": "gis_env",
   "language": "python",
   "name": "python3"
  },
  "language_info": {
   "codemirror_mode": {
    "name": "ipython",
    "version": 3
   },
   "file_extension": ".py",
   "mimetype": "text/x-python",
   "name": "python",
   "nbconvert_exporter": "python",
   "pygments_lexer": "ipython3",
   "version": "3.10.14"
  }
 },
 "nbformat": 4,
 "nbformat_minor": 2
}
